{
 "metadata": {
  "language_info": {
   "codemirror_mode": {
    "name": "ipython",
    "version": 3
   },
   "file_extension": ".py",
   "mimetype": "text/x-python",
   "name": "python",
   "nbconvert_exporter": "python",
   "pygments_lexer": "ipython3",
   "version": "3.9.1"
  },
  "orig_nbformat": 2,
  "kernelspec": {
   "name": "python391jvsc74a57bd0efa9b432fea283d399d4048b9ea38ad7d52e2db3b1d975920df9c6fbd0fff564",
   "display_name": "Python 3.9.1 64-bit"
  }
 },
 "nbformat": 4,
 "nbformat_minor": 2,
 "cells": [
  {
   "cell_type": "code",
   "execution_count": 1,
   "metadata": {},
   "outputs": [],
   "source": [
    "from bs4 import BeautifulSoup\n"
   ]
  },
  {
   "source": [
    "path_to_file = \"wiki/Python_(programming_language)\"\n",
    "f = open(path_to_file, \"r\", encoding=\"utf-8\")\n",
    "soup = BeautifulSoup(f, \"html.parser\")\n",
    "f.close()"
   ],
   "cell_type": "code",
   "metadata": {},
   "execution_count": 2,
   "outputs": []
  },
  {
   "cell_type": "code",
   "execution_count": 3,
   "metadata": {},
   "outputs": [],
   "source": [
    "body = soup.find(id=\"bodyContent\")"
   ]
  },
  {
   "cell_type": "code",
   "execution_count": null,
   "metadata": {
    "tags": []
   },
   "outputs": [],
   "source": [
    "# FIXME переделать с next siblings\n",
    "links = []\n",
    "count = 0\n",
    "lnks = body.find_all('a')\n",
    "for lnk in lnks:\n",
    "    for tag in lnk.next_siblings:\n",
    "        if tag.name is not None:\n",
    "            if tag.name == \"a\":\n",
    "                count += 1\n",
    "            else:\n",
    "                links.append(count)\n",
    "                count = 0\n",
    "                \n",
    "linkslen = max(links)"
   ]
  },
  {
   "cell_type": "code",
   "execution_count": 7,
   "metadata": {},
   "outputs": [
    {
     "output_type": "execute_result",
     "data": {
      "text/plain": [
       "138"
      ]
     },
     "metadata": {},
     "execution_count": 7
    }
   ],
   "source": [
    "linkslen"
   ]
  },
  {
   "cell_type": "code",
   "execution_count": 56,
   "metadata": {},
   "outputs": [],
   "source": [
    "headers = 0\n",
    "sizez = []\n",
    "for head in all_head:\n",
    "    sizez.append(head.text[0])\n",
    "    if (('C' in head.text[0])or('T' in head.text[0])or('E' in head.text[0])):\n",
    "        headers += 1\n",
    "       "
   ]
  },
  {
   "cell_type": "code",
   "execution_count": 57,
   "metadata": {},
   "outputs": [
    {
     "output_type": "execute_result",
     "data": {
      "text/plain": [
       "10"
      ]
     },
     "metadata": {},
     "execution_count": 57
    }
   ],
   "source": [
    "headers"
   ]
  },
  {
   "cell_type": "code",
   "execution_count": null,
   "metadata": {},
   "outputs": [],
   "source": [
    "imgs = 0\n",
    "sizez = []\n",
    "for image in all_img:\n",
    "    if (int(image.get(\"width\"))>=200):\n",
    "        imgs += 1\n",
    "        "
   ]
  },
  {
   "cell_type": "code",
   "execution_count": null,
   "metadata": {},
   "outputs": [],
   "source": [
    "imgs\n"
   ]
  },
  {
   "cell_type": "code",
   "execution_count": null,
   "metadata": {},
   "outputs": [],
   "source": []
  }
 ]
}